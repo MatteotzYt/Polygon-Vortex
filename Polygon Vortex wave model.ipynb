{
 "cells": [
  {
   "cell_type": "markdown",
   "metadata": {},
   "source": [
    "# Polygon vortex phase diagram"
   ]
  },
  {
   "cell_type": "code",
   "execution_count": 8,
   "metadata": {},
   "outputs": [],
   "source": [
    "# Import the necessary Python packages\n",
    "\n",
    "import numpy as np\n",
    "import scipy.integrate as integrate\n",
    "from scipy.optimize import fsolve\n",
    "import matplotlib.pyplot as plt"
   ]
  },
  {
   "cell_type": "code",
   "execution_count": 9,
   "metadata": {},
   "outputs": [],
   "source": [
    "# Define functions given in paper\n",
    "\n",
    "def zeta(H,xi):\n",
    "    return H*(1-2*xi**2*np.log(R/xi)/(R**2-xi**2))**(-1)\n",
    "\n",
    "def gamma(H,xi):\n",
    "    return 2*np.pi*R*xi*np.sqrt(2*g*H)/np.sqrt(R**2-xi**2-2*xi**2*np.log(R/xi))\n",
    "\n",
    "def x(H,f,xi):\n",
    "    return 1/(2*np.pi)*np.sqrt(gamma(H,xi)/f)\n",
    "\n",
    "def U(H,xi,r):\n",
    "    return gamma(H,xi)/(2*np.pi*r)\n",
    "\n",
    "def F(H,xi,m):\n",
    "    return (1+np.exp(-2*m*zeta(H,xi)/R)*(xi/R)**(2*m))/(1-np.exp(-2*m*zeta(H,xi)/R)*(xi/R)**(2*m))\n",
    "\n",
    "def Omegaxi(H,xi):\n",
    "    return U(H,xi,xi)/xi\n",
    "\n",
    "def OmegaR(H,xi):\n",
    "    return U(H,xi,R)/R\n",
    "\n",
    "def gc(H,xi):\n",
    "    return gamma(H,xi)**2/(4*np.pi**2*xi**3)\n",
    "\n",
    "def Dc(omega,H,xi,m):\n",
    "    z1=Omegaxi(H,xi);\n",
    "    z2=F(H,xi,m);\n",
    "    return (omega-m*z1)**2-gc(H,xi)*m*z2/xi\n",
    "\n",
    "def Dg(omega,H,xi,m):\n",
    "    z1=OmegaR(H,xi);\n",
    "    z2=F(H,xi,m);\n",
    "    return (omega-m*z1)**2-g*m*z2/R"
   ]
  },
  {
   "cell_type": "code",
   "execution_count": 10,
   "metadata": {},
   "outputs": [],
   "source": [
    "# Numerical integration in order to solve eq. 16\n",
    "\n",
    "def integral(H,f,xi):\n",
    "    return integrate.quad(lambda r: (r**2/x(H,f,xi)**2-1)**2,xi,R)\n",
    "\n",
    "func = lambda f: integral(H,f,xi)[0]-zeta(H,xi)"
   ]
  },
  {
   "cell_type": "code",
   "execution_count": 11,
   "metadata": {},
   "outputs": [],
   "source": [
    "# Parameter values\n",
    "\n",
    "g=9.81;\n",
    "R=0.097;"
   ]
  },
  {
   "cell_type": "code",
   "execution_count": 12,
   "metadata": {
    "scrolled": true
   },
   "outputs": [
    {
     "name": "stderr",
     "output_type": "stream",
     "text": [
      "C:\\Users\\matte\\anaconda3\\lib\\site-packages\\scipy\\optimize\\minpack.py:162: RuntimeWarning: The iteration is not making good progress, as measured by the \n",
      "  improvement from the last ten iterations.\n",
      "  warnings.warn(msg, RuntimeWarning)\n",
      "C:\\Users\\matte\\anaconda3\\lib\\site-packages\\ipykernel_launcher.py:7: RuntimeWarning: invalid value encountered in log\n",
      "  import sys\n",
      "C:\\Users\\matte\\anaconda3\\lib\\site-packages\\ipykernel_launcher.py:4: RuntimeWarning: invalid value encountered in log\n",
      "  after removing the cwd from sys.path.\n"
     ]
    }
   ],
   "source": [
    "# Finding the lower bound of each state\n",
    "\n",
    "### Algorithm ###\n",
    "# Iterate over wave number (from 2 to 4) and height\n",
    "# Resonance condition (11): find omega as a function of xi\n",
    "# Solve omega=mU(R)/R for xi (lower limit) and omega=mU(xi)/xi (upper limit) for xi\n",
    "# For a given xi, we solve func=0 and find f corresponding to some value of H\n",
    "\n",
    "lower = np.empty([3,100])\n",
    "Hlower = np.empty([3,100])\n",
    "\n",
    "def equations(p):\n",
    "    omega, xi = p\n",
    "    return (Dc(omega,H,xi,m)*Dg(omega,H,xi,m)-m**2*g*gc(H,xi)*(F(H,xi,m)**2-1)/(xi*R), omega-m*U(H,xi,R)/R)\n",
    "\n",
    "for m in range(2,5):\n",
    "    for i in range(0,100):\n",
    "        H = 0.024+i*0.0004\n",
    "        Hlower[m-2,i] = H\n",
    "        if m==2:\n",
    "            omega, xi =  fsolve(equations, (5, 0.04-0.00001*i))\n",
    "        if m==3:\n",
    "            omega, xi =  fsolve(equations, (5, 0.055-0.00001*i))\n",
    "        if m==4:\n",
    "            omega, xi =  fsolve(equations, (5, 0.062-0.00005*i))\n",
    "        fdown = fsolve(func,100*H+2.)[0]\n",
    "        lower[m-2,i] = fdown"
   ]
  },
  {
   "cell_type": "code",
   "execution_count": 7,
   "metadata": {},
   "outputs": [
    {
     "data": {
      "text/plain": [
       "(array([2., 3., 4., 5., 6., 7., 8., 9.]),\n",
       " <a list of 8 Text yticklabel objects>)"
      ]
     },
     "execution_count": 7,
     "metadata": {},
     "output_type": "execute_result"
    },
    {
     "data": {
      "image/png": "[encoded data removed]",
      "text/plain": [
       "<Figure size 432x288 with 1 Axes>"
      ]
     },
     "metadata": {
      "needs_background": "light"
     },
     "output_type": "display_data"
    }
   ],
   "source": [
    "# Plotting the theoretical curves for beginning of Cat's eye, triangle and square, with experimental values and errors\n",
    "\n",
    "plt.plot(Hlower[0],lower[0],'r-')\n",
    "plt.plot(Hlower[1],lower[1],'b-')\n",
    "plt.plot(Hlower[2],lower[2],'g-')\n",
    "plt.errorbar([0.04,0.05,0.045,0.03,0.035,0.025,0.0425],[5.5,6.5,6.,4.2,4.8,3.6,5.9],xerr=0.001,fmt='b^',label='Start of triangle state')\n",
    "plt.errorbar([0.04,0.05,0.045,0.03,0.035,0.025,0.0425],[6.9,7.9,7.3,5.5,6.2,4.8,7.1],xerr=0.001,fmt='g^',label='End of triangle state')\n",
    "plt.errorbar([0.03,0.035,0.04,0.045,0.05,0.055],[3.5,4.1,4.5,4.9,5.5,6],xerr=0.001,fmt='r.',label='Start of Cat Eye')\n",
    "plt.errorbar([0.025,0.03,0.035,0.04,0.045,0.05,0.055],[3.45,4.1,4.6,5.3,5.9,6.4,7.],xerr=0.001,fmt='b.', label='End of Cat Eye')\n",
    "plt.legend(fontsize=10)\n",
    "plt.xlabel('H [m]',fontsize=14)\n",
    "plt.ylabel('f [Hz]',fontsize=14)\n",
    "plt.xticks(fontsize=12)\n",
    "plt.yticks(fontsize=12)"
   ]
  },
  {
   "cell_type": "code",
   "execution_count": 7,
   "metadata": {},
   "outputs": [
    {
     "name": "stderr",
     "output_type": "stream",
     "text": [
      "C:\\Users\\matte\\anaconda3\\lib\\site-packages\\ipykernel_launcher.py:7: RuntimeWarning: invalid value encountered in log\n",
      "  import sys\n",
      "C:\\Users\\matte\\anaconda3\\lib\\site-packages\\ipykernel_launcher.py:4: RuntimeWarning: invalid value encountered in log\n",
      "  after removing the cwd from sys.path.\n",
      "C:\\Users\\matte\\anaconda3\\lib\\site-packages\\scipy\\optimize\\minpack.py:162: RuntimeWarning: The iteration is not making good progress, as measured by the \n",
      "  improvement from the last ten iterations.\n",
      "  warnings.warn(msg, RuntimeWarning)\n",
      "C:\\Users\\matte\\anaconda3\\lib\\site-packages\\ipykernel_launcher.py:10: RuntimeWarning: invalid value encountered in sqrt\n",
      "  # Remove the CWD from sys.path while we load stuff.\n",
      "C:\\Users\\matte\\anaconda3\\lib\\site-packages\\ipykernel_launcher.py:4: IntegrationWarning: The occurrence of roundoff error is detected, which prevents \n",
      "  the requested tolerance from being achieved.  The error may be \n",
      "  underestimated.\n",
      "  after removing the cwd from sys.path.\n",
      "C:\\Users\\matte\\anaconda3\\lib\\site-packages\\scipy\\optimize\\minpack.py:162: RuntimeWarning: The iteration is not making good progress, as measured by the \n",
      "  improvement from the last five Jacobian evaluations.\n",
      "  warnings.warn(msg, RuntimeWarning)\n"
     ]
    }
   ],
   "source": [
    "### 2nd part: attempt at predicting the big cylinder behaviour. 2D model unsuccessful.\n",
    "\n",
    "R=0.2;\n",
    "\n",
    "lower = np.empty([4,100])\n",
    "Hlower = np.empty([4,100])\n",
    "\n",
    "def equations(p):\n",
    "    omega, xi = p\n",
    "    return (Dc(omega,H,xi,m)*Dg(omega,H,xi,m)-m**2*g*gc(H,xi)*(F(H,xi,m)**2-1)/(xi*R), omega-m*U(H,xi,R)/R)\n",
    "\n",
    "for m in range(2,6):\n",
    "    for i in range(0,100):\n",
    "        H = 0.044+i*0.00035\n",
    "        Hlower[m-2,i] = H\n",
    "        if m==2:\n",
    "            omega, xi =  fsolve(equations, (5, 0.04-0.00001*i))\n",
    "        if m==3:\n",
    "            omega, xi =  fsolve(equations, (5, 0.055-0.00001*i))\n",
    "        if m==4:\n",
    "            omega, xi =  fsolve(equations, (5, 0.05-0.00001*i))\n",
    "        if m==5:\n",
    "            omega, xi =  fsolve(equations, (5, 0.65-0.00005*i))\n",
    "        fdown = fsolve(func,100*H)[0]\n",
    "        lower[m-2,i] = fdown"
   ]
  },
  {
   "cell_type": "code",
   "execution_count": 8,
   "metadata": {},
   "outputs": [
    {
     "data": {
      "text/plain": [
       "(array([1., 2., 3., 4., 5., 6., 7., 8.]),\n",
       " <a list of 8 Text yticklabel objects>)"
      ]
     },
     "execution_count": 8,
     "metadata": {},
     "output_type": "execute_result"
    },
    {
     "data": {
      "image/png": "[encoded data removed]",
      "text/plain": [
       "<Figure size 432x288 with 1 Axes>"
      ]
     },
     "metadata": {
      "needs_background": "light"
     },
     "output_type": "display_data"
    }
   ],
   "source": [
    "plt.plot(Hlower[0],lower[0],'r-')\n",
    "plt.plot(Hlower[1],lower[1],'b-')\n",
    "plt.plot(Hlower[2],lower[2],'g-')\n",
    "plt.errorbar([0.045,0.05,0.055,0.06,0.065,0.07,0.075],[2.1,2.4,2.7,3.,3.3,3.6,3.9],xerr=0.001,fmt='b^',label='Start of triangle state')\n",
    "plt.errorbar([0.045,0.05,0.055,0.06,0.065,0.07,0.075],[2.9,3.2,3.5,3.6,3.9,4,4.4],xerr=0.001,fmt='g^',label='End of triangle state')\n",
    "plt.legend(fontsize=10)\n",
    "plt.xlabel('H [m]',fontsize=14)\n",
    "plt.ylabel('f [Hz]',fontsize=14)\n",
    "plt.xticks(fontsize=12)\n",
    "plt.yticks(fontsize=12)"
   ]
  }
 ],
 "metadata": {
  "kernelspec": {
   "display_name": "Python 3",
   "language": "python",
   "name": "python3"
  },
  "language_info": {
   "codemirror_mode": {
    "name": "ipython",
    "version": 3
   },
   "file_extension": ".py",
   "mimetype": "text/x-python",
   "name": "python",
   "nbconvert_exporter": "python",
   "pygments_lexer": "ipython3",
   "version": "3.7.6"
  }
 },
 "nbformat": 4,
 "nbformat_minor": 2
}
